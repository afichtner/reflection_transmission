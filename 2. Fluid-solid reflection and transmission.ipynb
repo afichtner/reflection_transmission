{
 "cells": [
  {
   "cell_type": "code",
   "execution_count": null,
   "metadata": {},
   "outputs": [],
   "source": [
    "import numpy as np\n",
    "import matplotlib.pyplot as plt\n",
    "\n",
    "plt.rcParams[\"font.family\"] = \"Arial\"\n",
    "plt.rcParams.update({'font.size': 20})\n",
    "plt.rcParams['xtick.major.pad']='12'\n",
    "plt.rcParams['ytick.major.pad']='12'"
   ]
  },
  {
   "cell_type": "code",
   "execution_count": null,
   "metadata": {},
   "outputs": [],
   "source": [
    "# P velocity of upper acoustic layer [m/s].\n",
    "alpha1=1500.0\n",
    "# Density of upper acoustic layer [kg/m**3].\n",
    "rho1=1000.0\n",
    "\n",
    "# P velocity of elastic half space [m/s].\n",
    "alpha2=1510.0\n",
    "# S velocity of elastic half space [m/s].\n",
    "beta2=50.0\n",
    "# Density of elastic half space [kg/m**3].\n",
    "rho2=1100.0"
   ]
  },
  {
   "cell_type": "code",
   "execution_count": null,
   "metadata": {},
   "outputs": [],
   "source": [
    "# Compute elastic moduli.\n",
    "lambda1=rho1 * alpha1**2 \n",
    "mu2=rho2 * beta2**2\n",
    "lambda2=rho2 * alpha2**2  - 2.0*mu2"
   ]
  },
  {
   "cell_type": "code",
   "execution_count": null,
   "metadata": {},
   "outputs": [],
   "source": [
    "# Compute critical angle.\n",
    "phi_cp=np.arcsin(alpha1/alpha2)*180.0/np.pi\n",
    "print('P-wave critical angle: %f degree' % phi_cp)\n",
    "phi_cs=np.arcsin(alpha1/beta2)*180.0/np.pi\n",
    "print('S-wave critical angle: %f degree' % phi_cs)"
   ]
  },
  {
   "cell_type": "code",
   "execution_count": null,
   "metadata": {},
   "outputs": [],
   "source": [
    "def scattering_matrix(phi_pi,alpha1,rho1,alpha2,beta2,rho2):\n",
    "    \n",
    "    # Compute elastic moduli.\n",
    "    lambda1=rho1 * alpha1**2 \n",
    "    mu2=rho2 * beta2**2\n",
    "    lambda2=rho2 * alpha2**2  - 2.0*mu2\n",
    "    \n",
    "    # Compute sines and cosines of all other angles.\n",
    "    \n",
    "    sin_phi_pt=(alpha2/alpha1)*np.sin(phi_pi)\n",
    "    sin_phi_st=(beta2/alpha1)*np.sin(phi_pi)\n",
    "\n",
    "    cos_phi_pt=np.sqrt(1.0-sin_phi_pt**2 + 0.0j)\n",
    "    cos_phi_st=np.sqrt(1.0-sin_phi_st**2 + 0.0j)\n",
    "    \n",
    "    # Compute entries of the scattering matrix.\n",
    "    A11=np.cos(phi_pi)\n",
    "    A12=cos_phi_pt\n",
    "    A13=-sin_phi_st\n",
    "\n",
    "    A21=-1.0\n",
    "    A22=((alpha1*lambda2)/(alpha2*lambda1))*(1.0+cos_phi_pt**2)\n",
    "    A23=-((mu2*alpha1)/(lambda1*beta2))*sin_phi_st*cos_phi_st\n",
    "\n",
    "    A31=0.0\n",
    "    A32=2.0*sin_phi_pt*cos_phi_pt\n",
    "    A33=(alpha2/beta2)*(cos_phi_st**2-sin_phi_st**2)\n",
    "\n",
    "    A=np.array([[A11, A12, A13],[A21, A22, A23],[A31, A32, A33]])\n",
    "    \n",
    "    # Return.\n",
    "    return A"
   ]
  },
  {
   "cell_type": "code",
   "execution_count": null,
   "metadata": {},
   "outputs": [],
   "source": [
    "phi_pi=np.linspace(0.0,np.pi/2.0-0.01,10000)\n",
    "Rp_array=np.zeros(len(phi_pi),dtype='complex64')\n",
    "Tp_array=np.zeros(len(phi_pi),dtype='complex64')\n",
    "Ts_array=np.zeros(len(phi_pi),dtype='complex64')\n",
    "\n",
    "for i in range(len(phi_pi)):\n",
    "    \n",
    "    # Compute scattering matrix.\n",
    "    A=scattering_matrix(phi_pi[i],alpha1,rho1,alpha2,beta2,rho2)\n",
    "    # Compute right-hand side of scattering equation.\n",
    "    b=np.array([[np.cos(phi_pi[i])],[1.0],[0.0]])\n",
    "    # Solve equation.\n",
    "    Rp,Tp,Ts=np.matmul(np.linalg.inv(A),b)\n",
    "    Rp_array[i]=Rp\n",
    "    Tp_array[i]=Tp\n",
    "    Ts_array[i]=Ts"
   ]
  },
  {
   "cell_type": "code",
   "execution_count": null,
   "metadata": {
    "scrolled": false
   },
   "outputs": [],
   "source": [
    "fig=plt.figure(figsize=(10,10))\n",
    "plt.plot(phi_pi*180.0/np.pi,np.real(Rp_array),'b',linewidth=2)\n",
    "plt.plot(phi_pi*180.0/np.pi,np.imag(Rp_array),'r',linewidth=2)\n",
    "plt.plot(phi_pi*180.0/np.pi,np.abs(Rp_array),'k',linewidth=3)\n",
    "plt.minorticks_on()\n",
    "plt.grid(which='major',color='k',linewidth=1.0)\n",
    "plt.grid(which='minor',color='k',linewidth=0.5)\n",
    "plt.xlabel('incidence angle [deg]')\n",
    "plt.ylabel('Rp')\n",
    "plt.xlim([0.0,90.0])\n",
    "#plt.ylim([0.8,1.05])\n",
    "plt.show()\n",
    "\n",
    "fig=plt.figure(figsize=(10,10))\n",
    "plt.plot(phi_pi*180.0/np.pi,np.real(Tp_array),'b',linewidth=2)\n",
    "plt.plot(phi_pi*180.0/np.pi,np.imag(Tp_array),'r',linewidth=2)\n",
    "plt.plot(phi_pi*180.0/np.pi,np.abs(Tp_array),'k',linewidth=3)\n",
    "plt.minorticks_on()\n",
    "plt.grid(which='major',color='k',linewidth=1.0)\n",
    "plt.grid(which='minor',color='k',linewidth=0.5)\n",
    "plt.xlabel('incidence angle [deg]')\n",
    "plt.ylabel('Tp')\n",
    "plt.xlim([0.0,90.0])\n",
    "plt.show()\n",
    "\n",
    "fig=plt.figure(figsize=(10,10))\n",
    "plt.plot(phi_pi*180.0/np.pi,np.real(Ts_array),'b',linewidth=2)\n",
    "plt.plot(phi_pi*180.0/np.pi,np.imag(Ts_array),'r',linewidth=2)\n",
    "plt.plot(phi_pi*180.0/np.pi,np.abs(Ts_array),'k',linewidth=3)\n",
    "plt.minorticks_on()\n",
    "plt.grid(which='major',color='k',linewidth=1.0)\n",
    "plt.grid(which='minor',color='k',linewidth=0.5)\n",
    "plt.xlabel('incidence angle [deg]')\n",
    "plt.ylabel('Ts')\n",
    "plt.xlim([0.0,90.0])\n",
    "plt.show()"
   ]
  }
 ],
 "metadata": {
  "kernelspec": {
   "display_name": "Python 3",
   "language": "python",
   "name": "python3"
  },
  "language_info": {
   "codemirror_mode": {
    "name": "ipython",
    "version": 3
   },
   "file_extension": ".py",
   "mimetype": "text/x-python",
   "name": "python",
   "nbconvert_exporter": "python",
   "pygments_lexer": "ipython3",
   "version": "3.8.3"
  }
 },
 "nbformat": 4,
 "nbformat_minor": 5
}
