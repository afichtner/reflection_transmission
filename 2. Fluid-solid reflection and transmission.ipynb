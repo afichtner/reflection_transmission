{
 "cells": [
  {
   "cell_type": "markdown",
   "id": "dd978c86",
   "metadata": {},
   "source": [
    "# Fluid-solid reflection and transmission at a planar interface\n",
    "\n",
    "In this notebook we consider a fluid over a solid half space. We adopt the same geometric setting as before. The family of waves we need to consider are the following:\n",
    "    \n",
    "**Incoming P wave**:\n",
    "\n",
    "\\begin{equation}\n",
    "\\mathbf{u}=\\begin{pmatrix} \\sin\\psi_1 \\\\ 0 \\\\ -\\cos\\psi_1 \\end{pmatrix} e^{i(\\mathbf{k}\\cdot\\mathbf{x}-\\omega t)}\\,,\\quad \\mathbf{k}=\\frac{\\omega}{\\alpha_1} \\begin{pmatrix} \\sin\\psi_1 \\\\ 0 \\\\ -\\cos\\psi_1 \\end{pmatrix}\n",
    "\\end{equation}\n",
    "\n",
    "Note that we use $\\phi$ for S wave angles and $\\psi$ for P wave angles. In any case, the set of reflected and transmitted waves is always the same:\n",
    "\n",
    "**Reflected P wave**:\n",
    "\n",
    "\\begin{equation}\n",
    "\\mathbf{u}=R_P\\begin{pmatrix} \\sin\\psi_1 \\\\ 0 \\\\ \\cos\\psi_1 \\end{pmatrix} e^{i(\\mathbf{k}\\cdot\\mathbf{x}-\\omega t)}\\,,\\quad \\mathbf{k}=\\frac{\\omega}{\\alpha_1} \\begin{pmatrix} \\sin\\psi_1 \\\\ 0 \\\\ \\cos\\psi_1 \\end{pmatrix}\n",
    "\\end{equation}\n",
    "\n",
    "Note that the polarisation vector is defined such that the polarisation/amplitude of the incident and reflected SC waves are identical for normal incidence ($\\phi_1=0$).\n",
    "\n",
    "**Transmitted SV wave**:\n",
    "\n",
    "\\begin{equation}\n",
    "\\mathbf{u}=T_S \\begin{pmatrix} \\cos\\phi_2 \\\\ 0 \\\\ \\sin\\phi_2 \\end{pmatrix} e^{i(\\mathbf{k}\\cdot\\mathbf{x}-\\omega t)}\\,,\\quad \\mathbf{k}=\\frac{\\omega}{\\beta_2} \\begin{pmatrix} \\sin\\phi_2 \\\\ 0 \\\\ -\\cos\\phi_2 \\end{pmatrix}\n",
    "\\end{equation}\n",
    "\n",
    "**Transmitted P wave**:\n",
    "\n",
    "\\begin{equation}\n",
    "\\mathbf{u}=T_P \\begin{pmatrix} \\sin\\psi_2 \\\\ 0 \\\\ -\\cos\\psi_2 \\end{pmatrix} e^{i(\\mathbf{k}\\cdot\\mathbf{x}-\\omega t)}\\,,\\quad \\mathbf{k}=\\frac{\\omega}{\\alpha_2} \\begin{pmatrix} \\sin\\psi_2 \\\\ 0 \\\\ -\\cos\\psi_2 \\end{pmatrix}\n",
    "\\end{equation}\n",
    "\n",
    "The application of the kinematic and dynamic boundary conditions leads to a linear system of three equations, that involves the scattering matrix and the vector or reflection/transmission coefficients:\n",
    "\n",
    "\\begin{equation}\n",
    "\\begin{pmatrix}\n",
    "\\cos\\psi_1 & \\cos\\psi_2 & - \\sin\\phi_2 \\\\\\\\\n",
    "-\\lambda_1\\alpha_1^{-1} & (1+\\cos^2\\psi_2) \\lambda_2\\alpha_2^{-1} & - \\mu_2\\beta_2^{-1} \\sin\\psi_2\\cos\\phi_2 \\\\\\\\\n",
    "0 & 2\\alpha_2^{-1} \\sin\\psi_2\\cos\\psi_2 & \\beta_2^{-1} (\\cos^2\\phi_2 - \\sin^2\\phi_2)\n",
    "\\end{pmatrix}\n",
    "\\begin{pmatrix} R_P \\\\ T_P \\\\ T_S \\end{pmatrix} = \\mathbf{h}\n",
    "\\end{equation}\n",
    "\n",
    "The right-hand side is\n",
    "\n",
    "\\begin{equation}\n",
    "\\mathbf{h} = \\begin{pmatrix} \\cos\\psi_1 \\\\ \\lambda_1\\alpha_1^{-1} \\\\ 0 \\end{pmatrix}\n",
    "\\end{equation}\n"
   ]
  },
  {
   "cell_type": "markdown",
   "id": "3be6956c",
   "metadata": {},
   "source": [
    "# 0. Python packages and input"
   ]
  },
  {
   "cell_type": "markdown",
   "id": "2854525d",
   "metadata": {},
   "source": [
    "## 0.1. Python packages and figure embellishment"
   ]
  },
  {
   "cell_type": "code",
   "execution_count": null,
   "id": "12566ceb",
   "metadata": {},
   "outputs": [],
   "source": [
    "import numpy as np\n",
    "import matplotlib.pyplot as plt\n",
    "\n",
    "plt.rcParams[\"font.family\"] = \"Arial\"\n",
    "plt.rcParams.update({'font.size': 20})\n",
    "plt.rcParams['xtick.major.pad']='12'\n",
    "plt.rcParams['ytick.major.pad']='12'"
   ]
  },
  {
   "cell_type": "markdown",
   "id": "f7adb22d",
   "metadata": {},
   "source": [
    "## 0.2. Input parameters "
   ]
  },
  {
   "cell_type": "code",
   "execution_count": null,
   "id": "c93e5602",
   "metadata": {},
   "outputs": [],
   "source": [
    "# P velocity of upper acoustic layer [m/s].\n",
    "alpha1=1500.0\n",
    "# Density of upper acoustic layer [kg/m**3].\n",
    "rho1=1000.0\n",
    "\n",
    "# P velocity of elastic half space [m/s].\n",
    "alpha2=1510.0\n",
    "# S velocity of elastic half space [m/s].\n",
    "beta2=50.0\n",
    "# Density of elastic half space [kg/m**3].\n",
    "rho2=1100.0"
   ]
  },
  {
   "cell_type": "code",
   "execution_count": null,
   "id": "40931f86",
   "metadata": {},
   "outputs": [],
   "source": [
    "# Compute elastic moduli.\n",
    "lambda1=rho1 * alpha1**2 \n",
    "mu2=rho2 * beta2**2\n",
    "lambda2=rho2 * alpha2**2  - 2.0*mu2"
   ]
  },
  {
   "cell_type": "code",
   "execution_count": null,
   "id": "30826cf7",
   "metadata": {},
   "outputs": [],
   "source": [
    "# Compute critical angle.\n",
    "phi_cp=np.arcsin(alpha1/alpha2)*180.0/np.pi\n",
    "print('P-wave critical angle: %f degree' % phi_cp)\n",
    "phi_cs=np.arcsin(alpha1/beta2)*180.0/np.pi\n",
    "print('S-wave critical angle: %f degree' % phi_cs)"
   ]
  },
  {
   "cell_type": "markdown",
   "id": "843ad2c9",
   "metadata": {},
   "source": [
    "# 1. Reflection and transmission coefficients"
   ]
  },
  {
   "cell_type": "markdown",
   "id": "4b25be03",
   "metadata": {},
   "source": [
    "## 1.1. Compute and reflection and transmission coefficients"
   ]
  },
  {
   "cell_type": "code",
   "execution_count": null,
   "id": "9e3b7b24",
   "metadata": {},
   "outputs": [],
   "source": [
    "def scattering_matrix(phi_pi,alpha1,rho1,alpha2,beta2,rho2):\n",
    "    \n",
    "    # Compute elastic moduli.\n",
    "    lambda1=rho1 * alpha1**2 \n",
    "    mu2=rho2 * beta2**2\n",
    "    lambda2=rho2 * alpha2**2  - 2.0*mu2\n",
    "    \n",
    "    # Compute sines and cosines of all other angles.\n",
    "    \n",
    "    sin_phi_pt=(alpha2/alpha1)*np.sin(phi_pi)\n",
    "    sin_phi_st=(beta2/alpha1)*np.sin(phi_pi)\n",
    "\n",
    "    cos_phi_pt=np.sqrt(1.0-sin_phi_pt**2 + 0.0j)\n",
    "    cos_phi_st=np.sqrt(1.0-sin_phi_st**2 + 0.0j)\n",
    "    \n",
    "    # Compute entries of the scattering matrix.\n",
    "    A11=np.cos(phi_pi)\n",
    "    A12=cos_phi_pt\n",
    "    A13=-sin_phi_st\n",
    "\n",
    "    A21=-1.0\n",
    "    A22=((alpha1*lambda2)/(alpha2*lambda1))*(1.0+cos_phi_pt**2)\n",
    "    A23=-((mu2*alpha1)/(lambda1*beta2))*sin_phi_st*cos_phi_st\n",
    "\n",
    "    A31=0.0\n",
    "    A32=2.0*sin_phi_pt*cos_phi_pt\n",
    "    A33=(alpha2/beta2)*(cos_phi_st**2-sin_phi_st**2)\n",
    "\n",
    "    A=np.array([[A11, A12, A13],[A21, A22, A23],[A31, A32, A33]])\n",
    "    \n",
    "    # Return.\n",
    "    return A"
   ]
  },
  {
   "cell_type": "code",
   "execution_count": null,
   "id": "ecba088d",
   "metadata": {},
   "outputs": [],
   "source": [
    "phi_pi=np.linspace(0.0,np.pi/2.0-0.01,10000)\n",
    "Rp_array=np.zeros(len(phi_pi),dtype='complex64')\n",
    "Tp_array=np.zeros(len(phi_pi),dtype='complex64')\n",
    "Ts_array=np.zeros(len(phi_pi),dtype='complex64')\n",
    "\n",
    "for i in range(len(phi_pi)):\n",
    "    \n",
    "    # Compute scattering matrix.\n",
    "    A=scattering_matrix(phi_pi[i],alpha1,rho1,alpha2,beta2,rho2)\n",
    "    # Compute right-hand side of scattering equation.\n",
    "    b=np.array([[np.cos(phi_pi[i])],[1.0],[0.0]])\n",
    "    # Solve equation.\n",
    "    Rp,Tp,Ts=np.matmul(np.linalg.inv(A),b)\n",
    "    Rp_array[i]=Rp\n",
    "    Tp_array[i]=Tp\n",
    "    Ts_array[i]=Ts"
   ]
  },
  {
   "cell_type": "markdown",
   "id": "0f124a8b",
   "metadata": {},
   "source": [
    "## 1.2. Plot as a function of incidence angle"
   ]
  },
  {
   "cell_type": "code",
   "execution_count": null,
   "id": "9d665fc8",
   "metadata": {
    "scrolled": false
   },
   "outputs": [],
   "source": [
    "fig=plt.figure(figsize=(10,10))\n",
    "plt.plot(phi_pi*180.0/np.pi,np.real(Rp_array),'b',linewidth=2)\n",
    "plt.plot(phi_pi*180.0/np.pi,np.imag(Rp_array),'r',linewidth=2)\n",
    "plt.plot(phi_pi*180.0/np.pi,np.abs(Rp_array),'k',linewidth=3)\n",
    "plt.minorticks_on()\n",
    "plt.grid(which='major',color='k',linewidth=1.0)\n",
    "plt.grid(which='minor',color='k',linewidth=0.5)\n",
    "plt.xlabel('incidence angle [deg]')\n",
    "plt.ylabel('Rp')\n",
    "plt.xlim([0.0,90.0])\n",
    "#plt.ylim([0.8,1.05])\n",
    "plt.show()\n",
    "\n",
    "fig=plt.figure(figsize=(10,10))\n",
    "plt.plot(phi_pi*180.0/np.pi,np.real(Tp_array),'b',linewidth=2)\n",
    "plt.plot(phi_pi*180.0/np.pi,np.imag(Tp_array),'r',linewidth=2)\n",
    "plt.plot(phi_pi*180.0/np.pi,np.abs(Tp_array),'k',linewidth=3)\n",
    "plt.minorticks_on()\n",
    "plt.grid(which='major',color='k',linewidth=1.0)\n",
    "plt.grid(which='minor',color='k',linewidth=0.5)\n",
    "plt.xlabel('incidence angle [deg]')\n",
    "plt.ylabel('Tp')\n",
    "plt.xlim([0.0,90.0])\n",
    "plt.show()\n",
    "\n",
    "fig=plt.figure(figsize=(10,10))\n",
    "plt.plot(phi_pi*180.0/np.pi,np.real(Ts_array),'b',linewidth=2)\n",
    "plt.plot(phi_pi*180.0/np.pi,np.imag(Ts_array),'r',linewidth=2)\n",
    "plt.plot(phi_pi*180.0/np.pi,np.abs(Ts_array),'k',linewidth=3)\n",
    "plt.minorticks_on()\n",
    "plt.grid(which='major',color='k',linewidth=1.0)\n",
    "plt.grid(which='minor',color='k',linewidth=0.5)\n",
    "plt.xlabel('incidence angle [deg]')\n",
    "plt.ylabel('Ts')\n",
    "plt.xlim([0.0,90.0])\n",
    "plt.show()"
   ]
  }
 ],
 "metadata": {
  "kernelspec": {
   "display_name": "Python 3 (ipykernel)",
   "language": "python",
   "name": "python3"
  },
  "language_info": {
   "codemirror_mode": {
    "name": "ipython",
    "version": 3
   },
   "file_extension": ".py",
   "mimetype": "text/x-python",
   "name": "python",
   "nbconvert_exporter": "python",
   "pygments_lexer": "ipython3",
   "version": "3.9.7"
  }
 },
 "nbformat": 4,
 "nbformat_minor": 5
}
