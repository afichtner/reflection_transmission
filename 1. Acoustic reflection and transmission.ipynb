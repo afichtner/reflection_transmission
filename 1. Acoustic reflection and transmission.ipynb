{
 "cells": [
  {
   "cell_type": "markdown",
   "id": "c0815935",
   "metadata": {},
   "source": [
    "# 1. Reflection and transmission in acoustic media\n",
    "\n",
    "We consider reflection and transmission of acoustic waves at a planar interface separating media with velocities $v_1$ and $v_2$, and densities $\\rho_1$ and $\\rho_2$. The incident, reflected and transmitted waves are given by\n",
    "\n",
    "\\begin{equation}\n",
    "\\mathbf{u}^i=\\mathbf{A}^i e^{i(\\mathbf{k}^i\\cdot\\mathbf{x}-\\omega t)}\\,,\\quad \\mathbf{u}^r=\\mathbf{A}^r e^{i(\\mathbf{k}^r\\cdot\\mathbf{x}-\\omega t)}\\,,\\quad \\mathbf{u}^t=\\mathbf{A}^t e^{i(\\mathbf{k}^t\\cdot\\mathbf{x}-\\omega t)}\\,,\n",
    "\\end{equation}\n",
    "\n",
    "with the wave number vectors\n",
    "\n",
    "\\begin{equation}\n",
    "\\mathbf{k}^i = \\frac{\\omega}{v_1} \\begin{pmatrix} \\sin\\phi^i \\\\ 0 \\\\ \\cos\\phi^i  \\end{pmatrix}\\,,\\quad \\mathbf{k}^r = \\frac{\\omega}{v_1} \\begin{pmatrix} \\sin\\phi^i \\\\ 0 \\\\ -\\cos\\phi^i  \\end{pmatrix}\\,,\\quad \\mathbf{k}^t = \\frac{\\omega}{v_2} \\begin{pmatrix} \\sin\\phi^t \\\\ 0 \\\\ \\cos\\phi^t  \\end{pmatrix}\\,.\n",
    "\\end{equation}\n",
    "\n",
    "The relation between the incident and transmitted angles is given by Snell's law,\n",
    "\n",
    "\\begin{equation}\n",
    "\\frac{\\sin\\phi^i}{v_1} = \\frac{\\sin\\phi^t}{v_2}\\,.\n",
    "\\end{equation}\n",
    "\n",
    "Since the medium is acoustic, the polarisation vectors are parallel to the wave number vectors. Their amplitude relative to the amplitude of the incident wave defines the reflection coefficient $R$ and the transmission coefficient $T$,\n",
    "\n",
    "\\begin{equation}\n",
    "\\mathbf{A}^i = \\begin{pmatrix} \\sin\\phi^i \\\\ 0 \\\\ \\cos\\phi^i  \\end{pmatrix}\\,,\\quad \\mathbf{A}^r = R \\begin{pmatrix} \\sin\\phi^i \\\\ 0 \\\\ -\\cos\\phi^i  \\end{pmatrix}\\,,\\quad \\mathbf{A}^t = T \\begin{pmatrix} \\sin\\phi^t \\\\ 0 \\\\ \\cos\\phi^t  \\end{pmatrix}\\,.\n",
    "\\end{equation}\n",
    "\n",
    "Using the kinematic and dynamic boundary conditions, $R$ and $T$ can be determined explicitly,\n",
    "\n",
    "\\begin{equation}\n",
    "R = \\frac{\\rho_2 v_2 \\cos\\phi^i - \\rho_1 v_1 \\cos\\phi^t}{\\rho_2 v_2 \\cos\\phi^i + \\rho_1 v_1 \\cos\\phi^t}\\,,\\quad T = \\frac{2 \\rho_1 v_1 \\cos\\phi^i}{\\rho_2 v_2 \\cos\\phi^i + \\rho_1 v_1 \\cos\\phi^t}\\,.\n",
    "\\end{equation}"
   ]
  },
  {
   "cell_type": "markdown",
   "id": "28c433e2",
   "metadata": {},
   "source": [
    "# 0. Python packages and input"
   ]
  },
  {
   "cell_type": "markdown",
   "id": "db5ca822",
   "metadata": {},
   "source": [
    "## 0.1. Python packages and figure embellishment"
   ]
  },
  {
   "cell_type": "code",
   "execution_count": null,
   "id": "b61a1535",
   "metadata": {},
   "outputs": [],
   "source": [
    "import numpy as np\n",
    "import matplotlib.pyplot as plt\n",
    "\n",
    "plt.rcParams[\"font.family\"] = \"Arial\"\n",
    "plt.rcParams.update({'font.size': 20})\n",
    "plt.rcParams['xtick.major.pad']='12'\n",
    "plt.rcParams['ytick.major.pad']='12'"
   ]
  },
  {
   "cell_type": "markdown",
   "id": "39d49e32",
   "metadata": {},
   "source": [
    "## 0.2. Input parameters "
   ]
  },
  {
   "cell_type": "code",
   "execution_count": null,
   "id": "937fe963",
   "metadata": {},
   "outputs": [],
   "source": [
    "# Velocity of upper layer [m/s].\n",
    "v1=1500.0\n",
    "# Density of upper layer [kg/m**3].\n",
    "rho1=1000.0\n",
    "# Velocity of lower half space [m/s].\n",
    "v2=1800.0\n",
    "# Density of lower layer [kg/m**3].\n",
    "rho2=1000.0"
   ]
  },
  {
   "cell_type": "markdown",
   "id": "5b9aa6ed",
   "metadata": {},
   "source": [
    "# 1. Reflection and transmission coefficients"
   ]
  },
  {
   "cell_type": "markdown",
   "id": "54383825",
   "metadata": {},
   "source": [
    "## 1.1. Compute and reflection and transmission coefficients"
   ]
  },
  {
   "cell_type": "code",
   "execution_count": null,
   "id": "80ac959b",
   "metadata": {},
   "outputs": [],
   "source": [
    "def RT(phi_i):\n",
    "    \n",
    "    # Precompute impedances.\n",
    "    i1=v1*rho1\n",
    "    i2=v2*rho2\n",
    "    \n",
    "    # Compute cosine of transmitted and reflected angles.\n",
    "    ci=np.cos(phi_i)\n",
    "    ct=np.sqrt(1.0-(v2/v1 * np.sin(phi_i))**2)\n",
    "    \n",
    "    # Compute reflection and transmission coefficients.\n",
    "    R=(ci*i2-ct*i1)/(ci*i2+ct*i1)\n",
    "    T=(2.0*i1*ci)/(ci*i2+ct*i1)\n",
    "    \n",
    "    #R=(ci*i1-ct*i2)/(ci*i1+ct*i2)\n",
    "    #T=(2.0*i1*ci)/(ci*i1+ct*i2)\n",
    "    \n",
    "    # Return.\n",
    "    return R,T"
   ]
  },
  {
   "cell_type": "code",
   "execution_count": null,
   "id": "3d6de6b0",
   "metadata": {},
   "outputs": [],
   "source": [
    "# Compute critical angle.\n",
    "phi_c=180.0*np.arcsin(v1/v2)/np.pi\n",
    "print('critical angle: %f degree' % phi_c)\n",
    "\n",
    "# Range of incidence angles.\n",
    "phi_i=np.linspace(0.0,np.pi/2.0-0.01,10000,dtype='complex64')\n",
    "\n",
    "# Compute reflection and transmission coefficients.\n",
    "R,T=RT(phi_i)"
   ]
  },
  {
   "cell_type": "markdown",
   "id": "6ef1d940",
   "metadata": {},
   "source": [
    "## 1.2. Plot as a function of incidence angle"
   ]
  },
  {
   "cell_type": "code",
   "execution_count": null,
   "id": "b1b2e084",
   "metadata": {
    "scrolled": false
   },
   "outputs": [],
   "source": [
    "fig=plt.figure(figsize=(10,10))\n",
    "plt.plot(np.real(phi_i)*180.0/np.pi,np.real(R),'b',linewidth=2)\n",
    "plt.plot(np.real(phi_i)*180.0/np.pi,np.imag(R),'r',linewidth=2)\n",
    "plt.plot(np.real(phi_i)*180.0/np.pi,np.abs(R),'k',linewidth=3)\n",
    "plt.minorticks_on()\n",
    "plt.grid(which='major',color='k',linewidth=1.0)\n",
    "plt.grid(which='minor',color='k',linewidth=0.5)\n",
    "plt.xlabel('incidence angle [deg]')\n",
    "plt.ylabel('R')\n",
    "plt.xlim([0.0,90.0])\n",
    "plt.show()\n",
    "\n",
    "fig=plt.figure(figsize=(10,10))\n",
    "plt.plot(np.real(phi_i)*180.0/np.pi,np.real(T),'b',linewidth=2)\n",
    "plt.plot(np.real(phi_i)*180.0/np.pi,np.imag(T),'r',linewidth=2)\n",
    "plt.plot(np.real(phi_i)*180.0/np.pi,np.abs(T),'k',linewidth=3)\n",
    "plt.minorticks_on()\n",
    "plt.grid(which='major',color='k',linewidth=1.0)\n",
    "plt.grid(which='minor',color='k',linewidth=0.5)\n",
    "plt.xlabel('incidence angle [deg]')\n",
    "plt.ylabel('T')\n",
    "plt.xlim([0.0,90.0])\n",
    "plt.show()"
   ]
  }
 ],
 "metadata": {
  "kernelspec": {
   "display_name": "Python 3 (ipykernel)",
   "language": "python",
   "name": "python3"
  },
  "language_info": {
   "codemirror_mode": {
    "name": "ipython",
    "version": 3
   },
   "file_extension": ".py",
   "mimetype": "text/x-python",
   "name": "python",
   "nbconvert_exporter": "python",
   "pygments_lexer": "ipython3",
   "version": "3.9.7"
  }
 },
 "nbformat": 4,
 "nbformat_minor": 5
}
