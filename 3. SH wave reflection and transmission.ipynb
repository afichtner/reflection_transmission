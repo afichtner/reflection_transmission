{
 "cells": [
  {
   "cell_type": "markdown",
   "metadata": {},
   "source": [
    "# SH wave reflection at a planar interface\n",
    "\n",
    "We consider an interface parallel to the $x$-$y$-plane at $z=0$. SH waves are polarised in $y$-direction. The set of waves that we are dealing with are\n",
    "\n",
    "**incident SH wave**: \n",
    "\n",
    "\\begin{equation}\n",
    "\\mathbf{u}=\\begin{pmatrix} 0 \\\\ 1 \\\\ 0 \\end{pmatrix} e^{i(\\mathbf{k}\\cdot\\mathbf{x}-\\omega t)}\\,,\\quad \\mathbf{k}=\\frac{\\omega}{\\beta_1} \\begin{pmatrix} \\sin\\phi_1 \\\\ 0 \\\\ -\\cos\\phi_1 \\end{pmatrix}\n",
    "\\end{equation}\n",
    "\n",
    "**reflected SH wave**:\n",
    "\n",
    "\\begin{equation}\n",
    "\\mathbf{u}=R\\begin{pmatrix} 0 \\\\ 1 \\\\ 0 \\end{pmatrix} e^{i(\\mathbf{k}\\cdot\\mathbf{x}-\\omega t)}\\,,\\quad \\mathbf{k}=\\frac{\\omega}{\\beta_1} \\begin{pmatrix} \\sin\\phi_1 \\\\ 0 \\\\ \\cos\\phi_1 \\end{pmatrix}\n",
    "\\end{equation}\n",
    "\n",
    "**transmitted SH wave**:\n",
    "\n",
    "\\begin{equation}\n",
    "\\mathbf{u}=T\\begin{pmatrix} 0 \\\\ 1 \\\\ 0 \\end{pmatrix} e^{i(\\mathbf{k}\\cdot\\mathbf{x}-\\omega t)}\\,,\\quad \\mathbf{k}=\\frac{\\omega}{\\beta_2} \\begin{pmatrix} \\sin\\phi_2 \\\\ 0 \\\\ -\\cos\\phi_2 \\end{pmatrix}\n",
    "\\end{equation}\n",
    "\n",
    "The kinematic and dynamic boundary conditions allow us to derive explicit expressions for the reflection coefficient $R$ and the transmission coefficient $T$:\n",
    "\n",
    "\\begin{equation}\n",
    "R=\\frac{\\rho_1\\beta_1\\cos\\phi_1 - \\rho_2\\beta_2\\cos\\phi_2}{\\rho_1\\beta_1\\cos\\phi_1 + \\rho_2\\beta_2\\cos\\phi_2}\n",
    "\\end{equation}\n",
    "\n",
    "\\begin{equation}\n",
    "T=\\frac{2\\rho_1\\beta_1\\cos\\phi_1}{\\rho_1\\beta_1\\cos\\phi_1 + \\rho_2\\beta_2\\cos\\phi_2}\n",
    "\\end{equation}"
   ]
  },
  {
   "cell_type": "markdown",
   "metadata": {},
   "source": [
    "# 0. Python packages and input"
   ]
  },
  {
   "cell_type": "markdown",
   "metadata": {},
   "source": [
    "## 0.1. Python packages and figure embellishment"
   ]
  },
  {
   "cell_type": "code",
   "execution_count": null,
   "metadata": {},
   "outputs": [],
   "source": [
    "import numpy as np\n",
    "import matplotlib.pyplot as plt\n",
    "\n",
    "plt.rcParams[\"font.family\"] = \"Arial\"\n",
    "plt.rcParams.update({'font.size': 20})\n",
    "plt.rcParams['xtick.major.pad']='12'\n",
    "plt.rcParams['ytick.major.pad']='12'"
   ]
  },
  {
   "cell_type": "markdown",
   "metadata": {},
   "source": [
    "## 0.2. Input parameters "
   ]
  },
  {
   "cell_type": "code",
   "execution_count": null,
   "metadata": {},
   "outputs": [],
   "source": [
    "# Velocity of upper layer [m/s].\n",
    "beta1=1500.0\n",
    "# Density of upper layer [kg/m**3].\n",
    "rho1=1000.0\n",
    "# Velocity of lower half space [m/s].\n",
    "beta2=2000.0\n",
    "# Density of lower layer [kg/m**3].\n",
    "rho2=1000.0"
   ]
  },
  {
   "cell_type": "markdown",
   "metadata": {},
   "source": [
    "# 1. Reflection and transmission coefficients"
   ]
  },
  {
   "cell_type": "markdown",
   "metadata": {},
   "source": [
    "## 1.1. Compute and reflection and transmission coefficients"
   ]
  },
  {
   "cell_type": "code",
   "execution_count": null,
   "metadata": {},
   "outputs": [],
   "source": [
    "def RT(phi1):\n",
    "    \n",
    "    # Precompute impedances.\n",
    "    i1=beta1*rho1\n",
    "    i2=beta2*rho2\n",
    "    \n",
    "    # Compute cosine of transmitted and reflected angles.\n",
    "    c1=np.cos(phi1)\n",
    "    c2=np.sqrt(1.0-(beta2/beta1 * np.sin(phi1))**2)\n",
    "    \n",
    "    # Compute reflection and transmission coefficients.\n",
    "    R=(c1*i1-c2*i2)/(c1*i1+c2*i2)\n",
    "    T=(2.0*i1*c1)/(c1*i1+c2*i2)\n",
    "    \n",
    "    # Return.\n",
    "    return R,T"
   ]
  },
  {
   "cell_type": "code",
   "execution_count": null,
   "metadata": {},
   "outputs": [],
   "source": [
    "# Compute critical angle.\n",
    "phi_c=180.0*np.arcsin(beta1/beta2)/np.pi\n",
    "print('critical angle: %f degree' % phi_c)\n",
    "\n",
    "# Range of incidence angles.\n",
    "phi_i=np.linspace(0.0,np.pi/2.0-0.01,10000,dtype='complex64')\n",
    "\n",
    "# Compute reflection and transmission coefficients.\n",
    "R,T=RT(phi_i)"
   ]
  },
  {
   "cell_type": "markdown",
   "metadata": {},
   "source": [
    "## 1.2. Plot as a function of incidence angle"
   ]
  },
  {
   "cell_type": "code",
   "execution_count": null,
   "metadata": {},
   "outputs": [],
   "source": [
    "# Reflection coefficient\n",
    "fig=plt.figure(figsize=(10,10))\n",
    "plt.plot(np.real(phi_i)*180.0/np.pi,np.real(R),'b',linewidth=2)\n",
    "plt.plot(np.real(phi_i)*180.0/np.pi,np.imag(R),'r',linewidth=2)\n",
    "plt.plot(np.real(phi_i)*180.0/np.pi,np.abs(R),'--k',linewidth=3)\n",
    "plt.minorticks_on()\n",
    "plt.grid(which='major',color='k',linewidth=1.5)\n",
    "plt.grid(which='minor',color='k',linewidth=0.5)\n",
    "plt.xlabel('incidence angle [deg]')\n",
    "plt.ylabel('R')\n",
    "plt.xlim([0.0,90.0])\n",
    "plt.title('blue=real, red=imag, black=abs',pad=10)\n",
    "plt.show()\n",
    "\n",
    "# Transmission coefficient.\n",
    "fig=plt.figure(figsize=(10,10))\n",
    "plt.plot(np.real(phi_i)*180.0/np.pi,np.real(T),'b',linewidth=2)\n",
    "plt.plot(np.real(phi_i)*180.0/np.pi,np.imag(T),'r',linewidth=2)\n",
    "plt.plot(np.real(phi_i)*180.0/np.pi,np.abs(T),'--k',linewidth=3)\n",
    "plt.minorticks_on()\n",
    "plt.grid(which='major',color='k',linewidth=1.5)\n",
    "plt.grid(which='minor',color='k',linewidth=0.5)\n",
    "plt.xlabel('incidence angle [deg]')\n",
    "plt.ylabel('T')\n",
    "plt.xlim([0.0,90.0])\n",
    "plt.title('blue=real, red=imag, black=abs',pad=10)\n",
    "plt.show()"
   ]
  }
 ],
 "metadata": {
  "kernelspec": {
   "display_name": "Python 3 (ipykernel)",
   "language": "python",
   "name": "python3"
  },
  "language_info": {
   "codemirror_mode": {
    "name": "ipython",
    "version": 3
   },
   "file_extension": ".py",
   "mimetype": "text/x-python",
   "name": "python",
   "nbconvert_exporter": "python",
   "pygments_lexer": "ipython3",
   "version": "3.9.7"
  }
 },
 "nbformat": 4,
 "nbformat_minor": 4
}
